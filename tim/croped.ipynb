{
 "cells": [
  {
   "cell_type": "code",
   "execution_count": 6,
   "id": "9032766a-d025-420d-9199-a60fbf6c6219",
   "metadata": {},
   "outputs": [
    {
     "name": "stdout",
     "output_type": "stream",
     "text": [
      "Gambar berhasil disimpan ke Haidar.jpg\n"
     ]
    }
   ],
   "source": [
    "from PIL import Image\n",
    "\n",
    "def crop_image_to_3_4(image_path, output_path):\n",
    "    # Buka gambar\n",
    "    img = Image.open(image_path)\n",
    "    \n",
    "    # Dapatkan ukuran asli gambar\n",
    "    width, height = img.size\n",
    "    \n",
    "    # Tentukan rasio 4:3\n",
    "    target_ratio = 3 / 4\n",
    "    \n",
    "    # Hitung ukuran baru\n",
    "    if width / height > target_ratio:\n",
    "        # Jika gambar terlalu lebar, kurangi lebarnya\n",
    "        new_width = int(height * target_ratio)\n",
    "        left = (width - new_width) // 2\n",
    "        top = 0\n",
    "        right = left + new_width\n",
    "        bottom = height\n",
    "    else:\n",
    "        # Jika gambar terlalu tinggi, kurangi tingginya\n",
    "        new_height = int(width / target_ratio)\n",
    "        left = 0\n",
    "        top = (height - new_height) // 2\n",
    "        right = width\n",
    "        bottom = top + new_height\n",
    "    \n",
    "    # Crop gambar\n",
    "    cropped_img = img.crop((left, top, right, bottom))\n",
    "    \n",
    "    # Simpan gambar yang telah di-crop\n",
    "    cropped_img.save(output_path)\n",
    "    print(f'Gambar berhasil disimpan ke {output_path}')\n",
    "\n",
    "# Contoh penggunaan\n",
    "crop_image_to_3_4('/home/ntyrtype/Documents/apk mobile/tim/Haidar.jpeg', 'Haidar.jpg')\n"
   ]
  },
  {
   "cell_type": "code",
   "execution_count": 3,
   "id": "86ae0628-436d-481b-8c55-b95995bebda0",
   "metadata": {},
   "outputs": [
    {
     "name": "stdout",
     "output_type": "stream",
     "text": [
      "/home/ntyrtype/Documents/apk mobile/tim\n"
     ]
    }
   ],
   "source": [
    "!pwd"
   ]
  }
 ],
 "metadata": {
  "kernelspec": {
   "display_name": "Python 3 (ipykernel)",
   "language": "python",
   "name": "python3"
  },
  "language_info": {
   "codemirror_mode": {
    "name": "ipython",
    "version": 3
   },
   "file_extension": ".py",
   "mimetype": "text/x-python",
   "name": "python",
   "nbconvert_exporter": "python",
   "pygments_lexer": "ipython3",
   "version": "3.10.12"
  }
 },
 "nbformat": 4,
 "nbformat_minor": 5
}
